{
 "cells": [
  {
   "cell_type": "markdown",
   "metadata": {},
   "source": [
    "# Belajar Telegram Bot\n",
    "\n",
    "> Program ini menggunakan library https://github.com/python-telegram-bot/python-telegram-bot"
   ]
  },
  {
   "cell_type": "code",
   "execution_count": 1,
   "metadata": {},
   "outputs": [],
   "source": [
    "from telegram.ext import Updater, CommandHandler, MessageHandler, Filters\n",
    "import logging"
   ]
  },
  {
   "cell_type": "code",
   "execution_count": 2,
   "metadata": {},
   "outputs": [],
   "source": [
    "# Enable logging\n",
    "logging.basicConfig(format='%(asctime)s - %(name)s - %(levelname)s - %(message)s',\n",
    "                    level=logging.INFO)\n",
    "\n",
    "logger = logging.getLogger(__name__)"
   ]
  },
  {
   "cell_type": "markdown",
   "metadata": {},
   "source": [
    "> Untuk membuat telegram bot, cukup hubungi [BotFather](https://telegram.me/botfather) *- ya, dia bot juga -*  untuk mendapatkan TOKEN dan ikuti perintah selanjutnya. Untuk informasi lebih lengkap bisa dipelajari di https://core.telegram.org/bots."
   ]
  },
  {
   "cell_type": "code",
   "execution_count": 3,
   "metadata": {},
   "outputs": [],
   "source": [
    "TOKEN = 'MASUKAN-TOKEN-DISINI'"
   ]
  },
  {
   "cell_type": "markdown",
   "metadata": {},
   "source": [
    "> Yang paling mudah adalah memainkan command. Command adalah perintah yang kita tulis dengan awalan `/` misalnya `/start`. Info lebih lanjut dapat dipelajari di https://core.telegram.org/bots#commands\n",
    "\n",
    "![](image/telegram1.png)\n",
    "\n",
    "> Untuk memberikan respon terhadap command, kita akan melempar tugas tersebut pada masing masing fungsi. Untuk mengatur fungsi mana yang ditugaskan untuk merespon suatu command maka dibutuhkan `CommandHandler`.\n",
    "\n",
    "```python3\n",
    "dp.add_handler(CommandHandler(COMMAND_YANG_DIBERIKAN, NAMA_FUNGSI_YANG_MERESPON_COMMAND))\n",
    "```\n",
    "\n",
    "> Fungsi yang akan kita gunakan sebagai berikut\n",
    "\n",
    "Command | Nama Fungsi | Bentuk Respon\n",
    "--|--|--\n",
    "/start | start() | Dilakukan ketika user pertama kali berinteraksi dengan bot\n",
    "/kegiatan | kegiatan() | Akan menampilkan kegiatan apa saja yang ada\n",
    "/ikut | ikut() | Mendaftar kegiatan tertentu\n",
    "/terdaftar | terdaftar() | Akan menampilkan kegiatan apa yang diikuti\n",
    "\n",
    "> Namun dalam contoh kali ini hanya akan membalas berupa data dummy saja."
   ]
  },
  {
   "cell_type": "code",
   "execution_count": 4,
   "metadata": {},
   "outputs": [],
   "source": [
    "def main():\n",
    "    \n",
    "    updater = Updater(TOKEN) # Create the EventHandler and pass it your bot's token.\n",
    "    dp = updater.dispatcher # Get the dispatcher to register handlers\n",
    "\n",
    "    # Response terhadap command yang diberikan\n",
    "    dp.add_handler(CommandHandler(\"start\", start))\n",
    "    dp.add_handler(CommandHandler(\"kegiatan\", kegiatan))\n",
    "    dp.add_handler(CommandHandler(\"ikut\", ikut))\n",
    "    dp.add_handler(CommandHandler(\"terdaftar\", terdaftar))\n",
    "    \n",
    "    dp.add_error_handler(error) # Jika terjadi error, maka panggil fungsi error()\n",
    "\n",
    "    # Start the Bot\n",
    "    updater.start_polling()\n",
    "    updater.idle()"
   ]
  },
  {
   "cell_type": "code",
   "execution_count": 5,
   "metadata": {},
   "outputs": [],
   "source": [
    "def start(bot, update):\n",
    "    uname = update['message']['chat']['username']\n",
    "    update.message.reply_text('Hi %s!' % (uname))"
   ]
  },
  {
   "cell_type": "code",
   "execution_count": 6,
   "metadata": {},
   "outputs": [],
   "source": [
    "def kegiatan(bot, update):\n",
    "    update.message.reply_text('Kegiatan')"
   ]
  },
  {
   "cell_type": "code",
   "execution_count": 7,
   "metadata": {},
   "outputs": [],
   "source": [
    "def ikut(bot, update):\n",
    "    update.message.reply_text('Ikut')"
   ]
  },
  {
   "cell_type": "code",
   "execution_count": null,
   "metadata": {},
   "outputs": [],
   "source": [
    "def terdaftar(bot, update):\n",
    "    update.message.reply_text('Terdafar')"
   ]
  },
  {
   "cell_type": "code",
   "execution_count": null,
   "metadata": {},
   "outputs": [],
   "source": [
    "def error(bot, update, error):\n",
    "    \"\"\"Log Errors caused by Updates.\"\"\"\n",
    "    logger.warning('Update \"%s\" caused error \"%s\"', update, error)"
   ]
  },
  {
   "cell_type": "markdown",
   "metadata": {},
   "source": [
    "## Data yang didapat dari telegram\n",
    "\n",
    "> Ketika ada seseorang yang melakukan chat, akan diterima data seperti berikut dalam variabel update. Variabel update hanya tersedia pada fungsi yang didaftarkan pada `CommandHandler`, misal *start(bot, **update**).*"
   ]
  },
  {
   "cell_type": "code",
   "execution_count": 9,
   "metadata": {},
   "outputs": [],
   "source": [
    "update = {'message': \n",
    "            {'migrate_to_chat_id': 0,\n",
    "             'delete_chat_photo': False,\n",
    "             'new_chat_photo': [],\n",
    "             'entities': [],\n",
    "             'text': u'hai',\n",
    "             'migrate_from_chat_id': 0,\n",
    "             'channel_chat_created': False,\n",
    "             'from': {\n",
    "                'username': u'TegarImansyah',\n",
    "                 'first_name': u'Tegar',\n",
    "                 'last_name': u'Imansyah',\n",
    "                 'type': '',\n",
    "                 'id': 100000000\n",
    "             },\n",
    "             'supergroup_chat_created': False,\n",
    "             'chat': {\n",
    "                'username': u'TegarImansyah',\n",
    "                'first_name': u'Tegar',\n",
    "                'all_members_are_admins': False,\n",
    "                'title': '',\n",
    "                'last_name': u'Imansyah',\n",
    "                'type': u'private',\n",
    "                'id': 100000000\n",
    "             },\n",
    "             'photo': [],\n",
    "             'date': 1488090821,\n",
    "             'group_chat_created': False,\n",
    "             'caption': '',\n",
    "             'message_id': 111,\n",
    "             'new_chat_title': ''\n",
    "             },\n",
    "         'update_id': 999999999\n",
    "         }"
   ]
  },
  {
   "cell_type": "markdown",
   "metadata": {},
   "source": [
    "> Beberapa Cara untuk mengakses data secara spesifik adalah mengikuti gaya dictionary."
   ]
  },
  {
   "cell_type": "code",
   "execution_count": 11,
   "metadata": {},
   "outputs": [
    {
     "data": {
      "text/plain": [
       "dict_keys(['message', 'update_id'])"
      ]
     },
     "execution_count": 11,
     "metadata": {},
     "output_type": "execute_result"
    }
   ],
   "source": [
    "update.keys()"
   ]
  },
  {
   "cell_type": "code",
   "execution_count": 12,
   "metadata": {},
   "outputs": [
    {
     "data": {
      "text/plain": [
       "dict_keys(['migrate_to_chat_id', 'delete_chat_photo', 'new_chat_photo', 'entities', 'text', 'migrate_from_chat_id', 'channel_chat_created', 'from', 'supergroup_chat_created', 'chat', 'photo', 'date', 'group_chat_created', 'caption', 'message_id', 'new_chat_title'])"
      ]
     },
     "execution_count": 12,
     "metadata": {},
     "output_type": "execute_result"
    }
   ],
   "source": [
    "update['message'].keys()"
   ]
  },
  {
   "cell_type": "code",
   "execution_count": 13,
   "metadata": {},
   "outputs": [
    {
     "data": {
      "text/plain": [
       "dict_keys(['username', 'first_name', 'last_name', 'type', 'id'])"
      ]
     },
     "execution_count": 13,
     "metadata": {},
     "output_type": "execute_result"
    }
   ],
   "source": [
    "update['message']['from'].keys()"
   ]
  },
  {
   "cell_type": "code",
   "execution_count": 14,
   "metadata": {},
   "outputs": [
    {
     "data": {
      "text/plain": [
       "'TegarImansyah'"
      ]
     },
     "execution_count": 14,
     "metadata": {},
     "output_type": "execute_result"
    }
   ],
   "source": [
    "update['message']['from']['username']"
   ]
  },
  {
   "cell_type": "markdown",
   "metadata": {},
   "source": [
    "## Fitur Lain\n",
    "> Ada banyak fitur lain yang dapat digunakan misalnya\n",
    "\n",
    "**Custom Keyboard** \n",
    "* contoh: https://github.com/python-telegram-bot/python-telegram-bot/blob/master/examples/conversationbot.py\n",
    "![](image/telegram2.png)\n",
    "\n",
    "**Inline Keyboard** \n",
    "* contoh: https://github.com/python-telegram-bot/python-telegram-bot/blob/master/examples/inlinekeyboard.py\n",
    "![](image/telegram3.png)"
   ]
  },
  {
   "cell_type": "markdown",
   "metadata": {},
   "source": [
    "## Menjalankan Program\n",
    "\n",
    "> Sama dengan Flask, telegram juga dapat dipanggil dari file itu sendiri.\n",
    "\n",
    "> Yang perlu diperhatikan, telegram dan flask memiliki karakteristik blocking, jadi code yang ditulis setelah pemanggilan fungsi tersebut tidak akan dieksekusi."
   ]
  },
  {
   "cell_type": "code",
   "execution_count": null,
   "metadata": {},
   "outputs": [],
   "source": [
    "if __name__ == '__main__':\n",
    "    main()"
   ]
  }
 ],
 "metadata": {
  "kernelspec": {
   "display_name": "Python 3",
   "language": "python",
   "name": "python3"
  },
  "language_info": {
   "codemirror_mode": {
    "name": "ipython",
    "version": 3
   },
   "file_extension": ".py",
   "mimetype": "text/x-python",
   "name": "python",
   "nbconvert_exporter": "python",
   "pygments_lexer": "ipython3",
   "version": "3.6.3"
  }
 },
 "nbformat": 4,
 "nbformat_minor": 2
}

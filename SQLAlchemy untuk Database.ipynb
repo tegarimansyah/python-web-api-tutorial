{
 "cells": [
  {
   "cell_type": "markdown",
   "metadata": {},
   "source": [
    "# SQLAlchemy untuk Database\n",
    "\n",
    "Pada bagian ini akan diperlihatkan penggunaan SQLAlchemy-Flask untuk mempermudah pembuatan dan mengakses database. SQLAlchemy yang digunakan merupakan sebuah ekstensi untuk flask, bukan standalone."
   ]
  },
  {
   "cell_type": "code",
   "execution_count": 9,
   "metadata": {},
   "outputs": [],
   "source": [
    "from flask import Flask, jsonify, abort, make_response, request\n",
    "from flask_sqlalchemy import SQLAlchemy\n",
    "from datetime import datetime"
   ]
  },
  {
   "cell_type": "markdown",
   "metadata": {},
   "source": [
    "## Database Configuration\n",
    "\n",
    "Disini menggunakan mysql sehingga pada db_uri berupa `mysql+mysqldb` dimana `mysqldb` merupakan driver python yang digunakan untuk mengakses mysql."
   ]
  },
  {
   "cell_type": "code",
   "execution_count": 10,
   "metadata": {},
   "outputs": [],
   "source": [
    "user = 'root'\n",
    "password = 'root'\n",
    "host = 'localhost'\n",
    "port = 3306\n",
    "dbname = 'coba'\n",
    "\n",
    "db_uri = 'mysql+mysqldb://%s:%s@%s:%d/%s' % (user, password, host, port, dbname)"
   ]
  },
  {
   "cell_type": "code",
   "execution_count": 11,
   "metadata": {},
   "outputs": [],
   "source": [
    "app = Flask(__name__)\n",
    "app.config['SQLALCHEMY_DATABASE_URI'] = db_uri\n",
    "app.config['SQLALCHEMY_TRACK_MODIFICATIONS'] = True\n",
    "db = SQLAlchemy(app)"
   ]
  },
  {
   "cell_type": "markdown",
   "metadata": {},
   "source": [
    "## Membuat Tabel\n",
    "> Misal kita ingin membuat dua database `anggota` dan `kegiatan` dengan hubungan sebagai berikut. \n",
    "\n",
    "![](image/db1.png)\n",
    "\n",
    "> Untuk menghubungkan antara kegiatan dan peserta, maka dibentuk tabel `many-to-many` dengan nama `daftar_hadir`.\n",
    "\n",
    "> Untuk tipe data pada masing masing kolom, dapat dilihat referensi di http://flask-sqlalchemy.pocoo.org/2.3/models/ \n",
    "\n",
    "Tipe data | Penjelasan\n",
    "-- | --\n",
    "Integer\t| an integer\n",
    "String(size) | a string with a maximum length (optional in some databases, e.g. PostgreSQL)\n",
    "Text | some longer unicode text\n",
    "DateTime | date and time expressed as Python datetime object.\n",
    "Float | stores floating point values\n",
    "Boolean | stores a boolean value\n",
    "PickleType | stores a pickled Python object\n",
    "LargeBinary | stores large arbitrary binary data"
   ]
  },
  {
   "cell_type": "code",
   "execution_count": 12,
   "metadata": {},
   "outputs": [],
   "source": [
    "class Anggota(db.Model):\n",
    "    __table_args__ = {'extend_existing': True}  \n",
    "    \n",
    "    id = db.Column(db.Integer, primary_key=True)\n",
    "    nama = db.Column(db.String(80), nullable=False)\n",
    "    email = db.Column(db.String(120), unique=True, nullable=False)\n",
    "    telegram = db.Column(db.String(64), unique=True, nullable=False)\n",
    "    tanggal_terdaftar = db.Column(db.DateTime, default=datetime.utcnow)\n",
    "    ikut_serta = db.relationship('Kegiatan', secondary='daftar_hadir', backref=db.backref('peserta', lazy='dynamic'))\n",
    "\n",
    "    def __repr__(self):\n",
    "        return '<Anggota %r>' % self.telegram"
   ]
  },
  {
   "cell_type": "code",
   "execution_count": 13,
   "metadata": {},
   "outputs": [],
   "source": [
    "class Kegiatan(db.Model):\n",
    "    __table_args__ = {'extend_existing': True} \n",
    "    \n",
    "    id = db.Column(db.Integer, primary_key=True)\n",
    "    tema =  db.Column(db.Text, nullable=False)\n",
    "    pembicara = db.Column(db.Text,  nullable=False)\n",
    "    tempat = db.Column(db.Text,  nullable=False)\n",
    "    waktu = db.Column(db.DateTime, nullable=False)\n",
    "\n",
    "    def __repr__(self):\n",
    "        return '<Kegiatan %r>' % self.tema"
   ]
  },
  {
   "cell_type": "markdown",
   "metadata": {},
   "source": [
    "> Selanjutnya untuk membuat many-to-many ada sedikit perbedaan untuk membuatnya"
   ]
  },
  {
   "cell_type": "code",
   "execution_count": 14,
   "metadata": {},
   "outputs": [],
   "source": [
    "daftar_hadir = db.Table('daftar_hadir',\n",
    "    db.Column('kegiatan',db.Integer, db.ForeignKey('kegiatan.id'), index=True),\n",
    "    db.Column('peserta',db.Integer, db.ForeignKey('anggota.id'), index=True),\n",
    ")"
   ]
  },
  {
   "cell_type": "markdown",
   "metadata": {},
   "source": [
    "> Ketika semua pengaturan sudah dibuat, selanjutnya akan dibuat tabel berdasarkan kelas yang telah dibuat dengan perintah `db.create_all()`."
   ]
  },
  {
   "cell_type": "code",
   "execution_count": 15,
   "metadata": {},
   "outputs": [],
   "source": [
    "db.create_all()"
   ]
  },
  {
   "cell_type": "markdown",
   "metadata": {},
   "source": [
    "> Jika dilihat dari phpmyadmin akan terbuat tabel sebagai berikut\n",
    "\n",
    "![](image/db2.png)\n",
    "\n",
    "**Tabel anggota**\n",
    "![](image/db3.png)\n",
    "\n",
    "**Tabel kegiatan**\n",
    "![](image/db4.png)\n",
    "\n",
    "**Tabel daftar_hadir**\n",
    "![](image/db5.png)\n",
    "\n",
    "> Yang perlu diperhatikan adalah pada `Class Anggota` terdapat variabel yang tidak ada di tabel anggota yaitu:\n",
    "\n",
    "```python3\n",
    "ikut_serta = db.relationship('Kegiatan', secondary='daftar_hadir', backref=db.backref('peserta', lazy='dynamic'))\n",
    "```\n",
    "\n",
    "> ketika menggunakan `db.relationship`, variabel tersebut digunakan untuk mengakses data dari tabel lainnya, dalam hal ini `Kegiatan` dan `daftar_hadir`. Untuk lebih jelasnya akan diperlihatkan pada contoh dibawah. Namun sebelumnya kita akan memasukan beberapa data terlebih dahulu kedalam tabel.\n",
    "\n",
    "## Memasukan Data Pada Tabel\n",
    "\n",
    "> Pertama kita akan membuat objek dari `Class Anggota`. Anggota mensyaratkan tiga data yang harus diisi yaitu `nama`, `email`, dan `telegram`. Sedangkan `id` akan di autoincrement dan `tanggal_terdaftar` memiliki nilai default `datetime.utcnow`."
   ]
  },
  {
   "cell_type": "code",
   "execution_count": 16,
   "metadata": {},
   "outputs": [],
   "source": [
    "nama = 'tegar'\n",
    "email = 'egar@imansyah.com'\n",
    "telegram = 'tegarimansyah'\n",
    "\n",
    "user1 = Anggota(nama=nama, email=email, telegram=telegram)"
   ]
  },
  {
   "cell_type": "markdown",
   "metadata": {},
   "source": [
    "> Lalu kita lihat apa saja isi dari user1"
   ]
  },
  {
   "cell_type": "code",
   "execution_count": 22,
   "metadata": {},
   "outputs": [
    {
     "name": "stdout",
     "output_type": "stream",
     "text": [
      "nama :  tegar\n",
      "email :  egar@imansyah.com\n",
      "telegram :  tegarimansyah\n",
      "id :  None\n",
      "tanggal_terdaftar :  None\n"
     ]
    }
   ],
   "source": [
    "print('nama : ', user1.nama)\n",
    "print('email : ', user1.email)\n",
    "print('telegram : ', user1.telegram)\n",
    "print('id : ', user1.id)\n",
    "print('tanggal_terdaftar : ', user1.tanggal_terdaftar)"
   ]
  },
  {
   "cell_type": "markdown",
   "metadata": {},
   "source": [
    "> Selanjutnya kita masukan `user1` kedalam database"
   ]
  },
  {
   "cell_type": "code",
   "execution_count": 23,
   "metadata": {},
   "outputs": [],
   "source": [
    "db.session.add(user1)\n",
    "db.session.commit()"
   ]
  },
  {
   "cell_type": "markdown",
   "metadata": {},
   "source": [
    "> Data berhasil ditambahkan\n",
    "\n",
    "![](image/db6.png)\n",
    "\n",
    "> Selanjutnya kita lihat lagi object user1. Dia akan mendapatkan nilai untuk `id` dan `tanggal_terdaftar`."
   ]
  },
  {
   "cell_type": "code",
   "execution_count": 24,
   "metadata": {},
   "outputs": [
    {
     "name": "stdout",
     "output_type": "stream",
     "text": [
      "nama :  tegar\n",
      "email :  egar@imansyah.com\n",
      "telegram :  tegarimansyah\n",
      "id :  1\n",
      "tanggal_terdaftar :  2018-04-22 02:29:54\n"
     ]
    }
   ],
   "source": [
    "print('nama : ', user1.nama)\n",
    "print('email : ', user1.email)\n",
    "print('telegram : ', user1.telegram)\n",
    "print('id : ', user1.id)\n",
    "print('tanggal_terdaftar : ', user1.tanggal_terdaftar)"
   ]
  },
  {
   "cell_type": "markdown",
   "metadata": {},
   "source": [
    "> Kita akan membuat data anggota yang lebih banyak"
   ]
  },
  {
   "cell_type": "code",
   "execution_count": 26,
   "metadata": {},
   "outputs": [],
   "source": [
    "user2 = Anggota(nama='udin', email='udin@gmail.com', telegram='udin')\n",
    "user3 = Anggota(nama='sari', email='sari@gmail.com', telegram='sari')\n",
    "user4 = Anggota(nama='agus', email='agus@gmail.com', telegram='agus')\n",
    "user5 = Anggota(nama='budi', email='budi@gmail.com', telegram='budi')\n",
    "\n",
    "for user in [user2, user3, user4, user5]:\n",
    "    db.session.add(user)\n",
    "\n",
    "db.session.commit()"
   ]
  },
  {
   "cell_type": "markdown",
   "metadata": {},
   "source": [
    "> Hal yang sama juga dilakukan untuk kegiatan. Tapi sebelumnya kita harus melakukan format untuk tipe data waktu dengan membuat sebuah fungsi `waktu`"
   ]
  },
  {
   "cell_type": "code",
   "execution_count": 29,
   "metadata": {},
   "outputs": [
    {
     "data": {
      "text/plain": [
       "datetime.datetime(2018, 4, 18, 18, 0)"
      ]
     },
     "execution_count": 29,
     "metadata": {},
     "output_type": "execute_result"
    }
   ],
   "source": [
    "def waktu(data):\n",
    "    return datetime.strptime(data, '%d %b %Y %H:%M') \n",
    "\n",
    "waktu('18 Apr 2018 18:00')"
   ]
  },
  {
   "cell_type": "code",
   "execution_count": 30,
   "metadata": {},
   "outputs": [],
   "source": [
    "kegiatan1 = Kegiatan(tema = 'Belajar Python Basic', pembicara = 'Surabaya.py', \n",
    "                     tempat = 'Cafe A', waktu = waktu('20 Apr 2018 18:00'))\n",
    "\n",
    "kegiatan2 = Kegiatan(tema = 'Belajar Python Advanced', pembicara = 'Guido Van Rossum', \n",
    "                     tempat = 'Cafe B', waktu = waktu('30 Apr 2018 18:00'))"
   ]
  },
  {
   "cell_type": "code",
   "execution_count": 31,
   "metadata": {},
   "outputs": [],
   "source": [
    "for kegiatan in [kegiatan1, kegiatan2]:\n",
    "    db.session.add(kegiatan)\n",
    "\n",
    "db.session.commit()"
   ]
  },
  {
   "cell_type": "markdown",
   "metadata": {},
   "source": [
    "**Data Anggota Terakhir**\n",
    "![](image/db7.png)\n",
    "\n",
    "**Data Kegiatan Terakhir**\n",
    "![](image/db8.png)"
   ]
  },
  {
   "cell_type": "markdown",
   "metadata": {},
   "source": [
    "## Menggabungkan Data\n",
    "\n",
    "> Selanjutnya adalah menggabungkan data anggota dan kegiatan. Misal daftar hadir sebagai berikut\n",
    "\n",
    "Id Kegiatan | Tema Kegiatan | Id Anggota | Nama Anggota\n",
    "--|--|--|--\n",
    "1 | Belajar Python Basic | 1 | tegar\n",
    "1 | Belajar Python Basic | 2 | udin\n",
    "1 | Belajar Python Basic | 3 | sari\n",
    "1 | Belajar Python Basic | 4 | agus\n",
    "1 | Belajar Python Basic | 5 | budi\n",
    "--|--|-- | --\n",
    "2 | Belajar Python Advanced | 1 | tegar\n",
    "2 | Belajar Python Advanced | 3 | sari\n",
    "2 | Belajar Python Advanced | 4 | agus"
   ]
  },
  {
   "cell_type": "code",
   "execution_count": 33,
   "metadata": {},
   "outputs": [],
   "source": [
    "kegiatan1.peserta.append(user1)\n",
    "kegiatan1.peserta.append(user2)\n",
    "kegiatan1.peserta.append(user3)\n",
    "kegiatan1.peserta.append(user4)\n",
    "kegiatan1.peserta.append(user5)\n",
    "\n",
    "kegiatan2.peserta.append(user1)\n",
    "kegiatan2.peserta.append(user3)\n",
    "kegiatan2.peserta.append(user4)\n",
    "\n",
    "db.session.commit()"
   ]
  },
  {
   "cell_type": "markdown",
   "metadata": {},
   "source": [
    "> Informasi tersebut akan disimpan pada tabel many-to-many `daftar_hadir`.\n",
    "\n",
    "![](image/db9.png)\n",
    "\n",
    "> Mungkin akan bingung padahal `Class Kegiatan` tidak memiliki variabel `peserta`, namun sebenarnya sudah diinisiasi pada `Class Anggota` pada parameter `backref`:\n",
    "\n",
    "ikut_serta = db.relationship('Kegiatan', secondary='daftar_hadir', backref=db.backref(**'peserta'**, lazy='dynamic'))\n",
    "\n",
    "> Sebenarnya bisa juga dibalik pada sisi anggota misalnya **user2 memutuskan untuk ikut kegiatan 2**"
   ]
  },
  {
   "cell_type": "code",
   "execution_count": 34,
   "metadata": {},
   "outputs": [],
   "source": [
    "user2.ikut_serta.append(kegiatan2)\n",
    "db.session.commit()"
   ]
  },
  {
   "cell_type": "markdown",
   "metadata": {},
   "source": [
    "> Lalu sekarang bagian yang menariknya yaitu kita dapat **melihat semua kegiatan dari seorang anggota** atau **melihat semua peserta dari suatu kegiatan**"
   ]
  },
  {
   "cell_type": "code",
   "execution_count": 39,
   "metadata": {},
   "outputs": [
    {
     "name": "stdout",
     "output_type": "stream",
     "text": [
      "Nama peserta kegiatan Belajar Python Basic:\n",
      "*  tegar\n",
      "*  udin\n",
      "*  sari\n",
      "*  agus\n",
      "*  budi\n",
      "\n",
      "\n",
      "Email peserta kegiatan Belajar Python Advanced:\n",
      "*  egar@imansyah.com\n",
      "*  sari@gmail.com\n",
      "*  agus@gmail.com\n",
      "*  udin@gmail.com\n",
      "\n",
      "\n",
      "Daftar kegiatan yang diikuti tegar:\n",
      "*  Belajar Python Basic\n",
      "*  Belajar Python Advanced\n"
     ]
    }
   ],
   "source": [
    "print('Nama peserta kegiatan %s:' % (kegiatan1.tema))\n",
    "for peserta in kegiatan1.peserta:\n",
    "    print('* ', peserta.nama)\n",
    "\n",
    "print('\\n')    \n",
    "\n",
    "print('Email peserta kegiatan %s:' % (kegiatan2.tema))\n",
    "for peserta in kegiatan2.peserta:\n",
    "    print('* ', peserta.email)\n",
    "\n",
    "print('\\n')    \n",
    "\n",
    "print('Daftar kegiatan yang diikuti %s:' % (user1.nama))\n",
    "for kegiatan in user1.ikut_serta:\n",
    "    print('* ', kegiatan.tema)"
   ]
  },
  {
   "cell_type": "markdown",
   "metadata": {},
   "source": [
    "## Query\n",
    "\n",
    "> Beberapa macam query dapat dilihat pada http://flask-sqlalchemy.pocoo.org/2.3/queries/"
   ]
  },
  {
   "cell_type": "code",
   "execution_count": 41,
   "metadata": {},
   "outputs": [
    {
     "data": {
      "text/plain": [
       "[<Anggota 'tegarimansyah'>,\n",
       " <Anggota 'udin'>,\n",
       " <Anggota 'sari'>,\n",
       " <Anggota 'agus'>,\n",
       " <Anggota 'budi'>]"
      ]
     },
     "execution_count": 41,
     "metadata": {},
     "output_type": "execute_result"
    }
   ],
   "source": [
    "# Mendapat semua anggota dari database\n",
    "\n",
    "semua_anggota = Anggota.query.all()\n",
    "semua_anggota"
   ]
  },
  {
   "cell_type": "code",
   "execution_count": 42,
   "metadata": {},
   "outputs": [
    {
     "name": "stdout",
     "output_type": "stream",
     "text": [
      "egar@imansyah.com\n",
      "udin@gmail.com\n",
      "sari@gmail.com\n",
      "agus@gmail.com\n",
      "budi@gmail.com\n"
     ]
    }
   ],
   "source": [
    "# Melihat semua email dari query sebelumnya\n",
    "\n",
    "for anggota in semua_anggota:\n",
    "    print(anggota.email)"
   ]
  },
  {
   "cell_type": "code",
   "execution_count": 45,
   "metadata": {},
   "outputs": [
    {
     "data": {
      "text/plain": [
       "<Anggota 'udin'>"
      ]
     },
     "execution_count": 45,
     "metadata": {},
     "output_type": "execute_result"
    }
   ],
   "source": [
    "# Mencari query tertentu\n",
    "\n",
    "udin = Anggota.query.filter_by(telegram='udin').first()\n",
    "udin"
   ]
  },
  {
   "cell_type": "code",
   "execution_count": 46,
   "metadata": {},
   "outputs": [
    {
     "data": {
      "text/plain": [
       "[<Kegiatan 'Belajar Python Basic'>, <Kegiatan 'Belajar Python Advanced'>]"
      ]
     },
     "execution_count": 46,
     "metadata": {},
     "output_type": "execute_result"
    }
   ],
   "source": [
    "# Melihat kegiatan yang diikuti oleh anggota\n",
    "\n",
    "udin.ikut_serta"
   ]
  },
  {
   "cell_type": "code",
   "execution_count": 47,
   "metadata": {},
   "outputs": [
    {
     "name": "stdout",
     "output_type": "stream",
     "text": [
      "2018-04-20 18:00:00\n",
      "2018-04-30 18:00:00\n"
     ]
    }
   ],
   "source": [
    "# Melihat waktu dari semua kegiatan yang diikuti udin\n",
    "for kegiatan in udin.ikut_serta:\n",
    "    print(kegiatan.waktu)"
   ]
  },
  {
   "cell_type": "markdown",
   "metadata": {},
   "source": [
    "## Update data"
   ]
  },
  {
   "cell_type": "code",
   "execution_count": 48,
   "metadata": {},
   "outputs": [
    {
     "name": "stdout",
     "output_type": "stream",
     "text": [
      "nama :  tegar\n",
      "email :  egar@imansyah.com\n",
      "telegram :  tegarimansyah\n",
      "id :  1\n",
      "tanggal_terdaftar :  2018-04-22 02:29:54\n"
     ]
    }
   ],
   "source": [
    "print('nama : ', user1.nama)\n",
    "print('email : ', user1.email)\n",
    "print('telegram : ', user1.telegram)\n",
    "print('id : ', user1.id)\n",
    "print('tanggal_terdaftar : ', user1.tanggal_terdaftar)"
   ]
  },
  {
   "cell_type": "code",
   "execution_count": 50,
   "metadata": {},
   "outputs": [],
   "source": [
    "user1.email = 'tegar@gmail.com'\n",
    "db.session.commit()"
   ]
  },
  {
   "cell_type": "code",
   "execution_count": 51,
   "metadata": {},
   "outputs": [
    {
     "name": "stdout",
     "output_type": "stream",
     "text": [
      "nama :  tegar\n",
      "email :  tegar@gmail.com\n",
      "telegram :  tegarimansyah\n",
      "id :  1\n",
      "tanggal_terdaftar :  2018-04-22 02:29:54\n"
     ]
    }
   ],
   "source": [
    "print('nama : ', user1.nama)\n",
    "print('email : ', user1.email)\n",
    "print('telegram : ', user1.telegram)\n",
    "print('id : ', user1.id)\n",
    "print('tanggal_terdaftar : ', user1.tanggal_terdaftar)"
   ]
  },
  {
   "cell_type": "markdown",
   "metadata": {},
   "source": [
    "## Delete Data\n",
    "\n",
    "> Sebelumnya kita telah memiliki objek udin dan kita akan menghapus data dari objek udin pada database."
   ]
  },
  {
   "cell_type": "code",
   "execution_count": 52,
   "metadata": {},
   "outputs": [
    {
     "data": {
      "text/plain": [
       "<Anggota 'udin'>"
      ]
     },
     "execution_count": 52,
     "metadata": {},
     "output_type": "execute_result"
    }
   ],
   "source": [
    "udin"
   ]
  },
  {
   "cell_type": "code",
   "execution_count": 53,
   "metadata": {},
   "outputs": [],
   "source": [
    "db.session.delete(udin)\n",
    "db.session.commit()"
   ]
  },
  {
   "cell_type": "markdown",
   "metadata": {},
   "source": [
    "> Dapat dilihat dari anggota komunitas, sudah tidak ada udin"
   ]
  },
  {
   "cell_type": "code",
   "execution_count": 54,
   "metadata": {},
   "outputs": [
    {
     "data": {
      "text/plain": [
       "[<Anggota 'tegarimansyah'>,\n",
       " <Anggota 'sari'>,\n",
       " <Anggota 'agus'>,\n",
       " <Anggota 'budi'>]"
      ]
     },
     "execution_count": 54,
     "metadata": {},
     "output_type": "execute_result"
    }
   ],
   "source": [
    "semua_anggota = Anggota.query.all()\n",
    "semua_anggota"
   ]
  },
  {
   "cell_type": "markdown",
   "metadata": {},
   "source": [
    "> Hal tersebut juga mempengaruhi tabel lain"
   ]
  },
  {
   "cell_type": "code",
   "execution_count": 56,
   "metadata": {
    "scrolled": true
   },
   "outputs": [
    {
     "name": "stdout",
     "output_type": "stream",
     "text": [
      "tegar\n",
      "sari\n",
      "agus\n",
      "budi\n"
     ]
    }
   ],
   "source": [
    "for peserta in kegiatan1.peserta:\n",
    "    print(peserta.nama)"
   ]
  }
 ],
 "metadata": {
  "kernelspec": {
   "display_name": "Python 3",
   "language": "python",
   "name": "python3"
  },
  "language_info": {
   "codemirror_mode": {
    "name": "ipython",
    "version": 3
   },
   "file_extension": ".py",
   "mimetype": "text/x-python",
   "name": "python",
   "nbconvert_exporter": "python",
   "pygments_lexer": "ipython3",
   "version": "3.6.3"
  }
 },
 "nbformat": 4,
 "nbformat_minor": 2
}

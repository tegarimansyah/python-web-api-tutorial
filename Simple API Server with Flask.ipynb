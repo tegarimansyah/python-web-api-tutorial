{
 "cells": [
  {
   "cell_type": "markdown",
   "metadata": {},
   "source": [
    "# RESTFUL API dengan FLASK\n",
    "\n",
    "Pada bagian ini akan diperlihatkan penggunaan flask untuk RESTFUL API server. Selanjutnya kita akan menambahkan beberapa library pada flask dan membuat object bernama `app`."
   ]
  },
  {
   "cell_type": "code",
   "execution_count": 1,
   "metadata": {},
   "outputs": [],
   "source": [
    "from flask import Flask, jsonify, make_response, request\n",
    "\n",
    "app = Flask(__name__)"
   ]
  },
  {
   "cell_type": "markdown",
   "metadata": {},
   "source": [
    "> Selanjutnya kita akan membuat URI dengan method GET\n",
    "\n",
    "**URI**\n",
    "\n",
    "URI | Method | Response Data\n",
    "--|--|--\n",
    "/api/hello/ | GET | Halo orang asing.\n",
    "/api/hello/nama_orang | GET | Halo nama_orang.\n",
    "\n",
    "**Response Code**\n",
    "\n",
    "HTTP Code | Response Data\n",
    "--|--\n",
    "200 | The request has succeeded. \n",
    "400 | Bad Request.\n",
    "404 | Not Found."
   ]
  },
  {
   "cell_type": "code",
   "execution_count": 2,
   "metadata": {},
   "outputs": [],
   "source": [
    "@app.route('/api/hello/', methods=['GET'])\n",
    "def hello():\n",
    "    if request.method == 'GET':\n",
    "        response = {\n",
    "            'status': 'success',\n",
    "            'data': 'Halo orang asing.'\n",
    "        }\n",
    "    return jsonify(response), 200"
   ]
  },
  {
   "cell_type": "markdown",
   "metadata": {},
   "source": [
    "> Hasil dari pemanggilan URI diatas\n",
    "\n",
    "![](image/api1.png)"
   ]
  },
  {
   "cell_type": "markdown",
   "metadata": {},
   "source": [
    "> Menjadikan URI menjadi variabel"
   ]
  },
  {
   "cell_type": "code",
   "execution_count": 3,
   "metadata": {},
   "outputs": [],
   "source": [
    "@app.route('/api/hello/<nama>/', methods=['GET'])\n",
    "def hello_string(nama):\n",
    "    if request.method == 'GET':\n",
    "        response = {\n",
    "            'status': 'success',\n",
    "            'data': 'Halo %s.' % (nama)\n",
    "        }\n",
    "    return jsonify(response), 200"
   ]
  },
  {
   "cell_type": "markdown",
   "metadata": {},
   "source": [
    "> Hasil dari pemanggilan URI diatas\n",
    "\n",
    "![](image/api2.png)"
   ]
  },
  {
   "cell_type": "markdown",
   "metadata": {},
   "source": [
    "> URI menjadi variabel dengan tipe data tertentu\n",
    "\n",
    "Tipe Data URI | Bentuk data\n",
    "-- | --\n",
    "string | accepts any text without a slash (the default)\n",
    "int | accepts integers\n",
    "float | like int but for floating point values\n",
    "path | like the default but also accepts slashes\n",
    "any\t| matches one of the items provided\n",
    "uuid | accepts UUID strings"
   ]
  },
  {
   "cell_type": "code",
   "execution_count": 4,
   "metadata": {},
   "outputs": [],
   "source": [
    "@app.route('/api/hello/<int:nilai>/', methods=['GET'])\n",
    "def hello_integer(nilai):\n",
    "    if request.method == 'GET':\n",
    "        response = {\n",
    "            'status': 'success',\n",
    "            'data': nilai\n",
    "        }\n",
    "    return jsonify(response), 200"
   ]
  },
  {
   "cell_type": "markdown",
   "metadata": {},
   "source": [
    "> Method pada API yang dapat digunakan sebagai berikut:\n",
    "\n",
    "Method | Description\n",
    "-- | --\n",
    "GET | The browser tells the server to just get the information stored on that page and send it. This is probably the most common method.\n",
    "HEAD | The browser tells the server to get the information, but it is only interested in the headers, not the content of the page. An application is supposed to handle that as if a GET request was received but to not deliver the actual content. In Flask you don’t have to deal with that at all, the underlying Werkzeug library handles that for you.\n",
    "POST | The browser tells the server that it wants to post some new information to that URL and that the server must ensure the data is stored and only stored once. This is how HTML forms usually transmit data to the server.\n",
    "PUT | Similar to POST but the server might trigger the store procedure multiple times by overwriting the old values more than once. Now you might be asking why this is useful, but there are some good reasons to do it this way. Consider that the connection is lost during transmission: in this situation a system between the browser and the server might receive the request safely a second time without breaking things. With POST that would not be possible because it must only be triggered once.\n",
    "DELETE | Remove the information at the given location.\n",
    "OPTIONS | Provides a quick way for a client to figure out which methods are supported by this URL. Starting with Flask 0.6, this is implemented for you automatically."
   ]
  },
  {
   "cell_type": "code",
   "execution_count": 5,
   "metadata": {},
   "outputs": [],
   "source": [
    "@app.route('/api/post/', methods=['POST'])\n",
    "def posting():\n",
    "    if request.method == 'POST':\n",
    "        \n",
    "        # Membuat parameter yang wajib disertakan pada body\n",
    "        parameter = ['nama', 'email', 'telegram']\n",
    "        \n",
    "        # Cek apakah request yang diberikan berupa tipe data json dan terdapat semua parametr yang dibutuhkan\n",
    "        if request.json and set(parameter).issubset(request.json):\n",
    "            content = request.json\n",
    "            data = {\n",
    "                'nama': content[\"nama\"],\n",
    "                'email': content[\"email\"], \n",
    "                'telegram': content[\"telegram\"]\n",
    "            }\n",
    "            \n",
    "            response = {\n",
    "                'status': 'success',\n",
    "                'data': data\n",
    "            }, 200\n",
    "            \n",
    "        else:\n",
    "            # Jika request data bukan json atau parameter tidak lengkap\n",
    "            # Memberikan HTTP Code 400 Bad Request\n",
    "            response = {\n",
    "                'status': 'failed', \n",
    "                'data': 'Bad Request'\n",
    "            }, 400 \n",
    "    return jsonify(response[0]), response[1]"
   ]
  },
  {
   "cell_type": "markdown",
   "metadata": {},
   "source": [
    "> Hasil dari pemanggilan URI diatas, jangan lupa untuk menambahkan header `Content-Type: application/json`\n",
    "\n",
    "![](image/api3.png)\n",
    "\n",
    "> Ketika semua pengaturan selesai diatur, maka dapat dijalankan perintah `app.run()`. If clause disana menandakan program hanya berjalan jika file ini dieksekusi, tapi tidak jika di import. `host='0.0.0.0'` menandakan program dapat di akses oleh semua yang berada di jaringan."
   ]
  },
  {
   "cell_type": "code",
   "execution_count": 6,
   "metadata": {
    "scrolled": true
   },
   "outputs": [
    {
     "name": "stderr",
     "output_type": "stream",
     "text": [
      " * Running on http://0.0.0.0:5000/ (Press CTRL+C to quit)\n"
     ]
    }
   ],
   "source": [
    "if __name__ == '__main__':\n",
    "    app.run(host= '0.0.0.0')"
   ]
  }
 ],
 "metadata": {
  "kernelspec": {
   "display_name": "Python 3",
   "language": "python",
   "name": "python3"
  },
  "language_info": {
   "codemirror_mode": {
    "name": "ipython",
    "version": 3
   },
   "file_extension": ".py",
   "mimetype": "text/x-python",
   "name": "python",
   "nbconvert_exporter": "python",
   "pygments_lexer": "ipython3",
   "version": "3.6.3"
  }
 },
 "nbformat": 4,
 "nbformat_minor": 2
}
